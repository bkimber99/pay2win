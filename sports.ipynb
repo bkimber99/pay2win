{
 "cells": [
  {
   "cell_type": "code",
   "execution_count": 18,
   "id": "e7fdfed7",
   "metadata": {},
   "outputs": [],
   "source": [
    "import pandas as pd\n",
    "import requests\n",
    "from bs4 import BeautifulSoup\n",
    "import matplotlib as plt\n",
    "import seaborn as sns"
   ]
  },
  {
   "cell_type": "code",
   "execution_count": 3,
   "id": "25ae7924",
   "metadata": {},
   "outputs": [
    {
     "name": "stderr",
     "output_type": "stream",
     "text": [
      "/var/folders/62/5fmsns653cv0g9fgly39bn040000gn/T/ipykernel_16221/3110448112.py:1: DtypeWarning: Columns (8) have mixed types. Specify dtype option on import or set low_memory=False.\n",
      "  sports = pd.read_csv(\"sports.csv\")\n"
     ]
    }
   ],
   "source": [
    "sports = pd.read_csv(\"sports.csv\")"
   ]
  },
  {
   "cell_type": "code",
   "execution_count": 4,
   "id": "4cb6a783",
   "metadata": {},
   "outputs": [],
   "source": [
    "sports = sports.loc[sports['classification_code'] == 1]"
   ]
  },
  {
   "cell_type": "code",
   "execution_count": 5,
   "id": "c073bfc3",
   "metadata": {},
   "outputs": [],
   "source": [
    "sports = sports.loc[sports['sports'] == 'Football']"
   ]
  },
  {
   "cell_type": "code",
   "execution_count": 6,
   "id": "52278665",
   "metadata": {},
   "outputs": [
    {
     "name": "stderr",
     "output_type": "stream",
     "text": [
      "/var/folders/62/5fmsns653cv0g9fgly39bn040000gn/T/ipykernel_16221/2715496473.py:2: SettingWithCopyWarning: \n",
      "A value is trying to be set on a copy of a slice from a DataFrame\n",
      "\n",
      "See the caveats in the documentation: https://pandas.pydata.org/pandas-docs/stable/user_guide/indexing.html#returning-a-view-versus-a-copy\n",
      "  sports_2019.drop(['year','unitid','city_txt','state_cd','zip_text','classification_other','ef_female_count','ef_total_count','sector_cd','sector_name','sportscode','partic_women','partic_coed_men','partic_coed_women','sum_partic_men','sum_partic_women','rev_women','total_rev_menwomen','exp_women'],axis=1, inplace = True)\n"
     ]
    }
   ],
   "source": [
    "sports_2019 = sports.loc[sports['year'] == 2019]\n",
    "sports_2019.drop(['year','unitid','city_txt','state_cd','zip_text','classification_other','ef_female_count','ef_total_count','sector_cd','sector_name','sportscode','partic_women','partic_coed_men','partic_coed_women','sum_partic_men','sum_partic_women','rev_women','total_rev_menwomen','exp_women'],axis=1, inplace = True)\n",
    "sports_2019.reset_index()\n",
    "sports_2019.to_csv(\"sports_2019.csv\")"
   ]
  },
  {
   "cell_type": "code",
   "execution_count": 7,
   "id": "fcc9e2ee",
   "metadata": {},
   "outputs": [
    {
     "name": "stderr",
     "output_type": "stream",
     "text": [
      "/var/folders/62/5fmsns653cv0g9fgly39bn040000gn/T/ipykernel_16221/3406958938.py:2: SettingWithCopyWarning: \n",
      "A value is trying to be set on a copy of a slice from a DataFrame\n",
      "\n",
      "See the caveats in the documentation: https://pandas.pydata.org/pandas-docs/stable/user_guide/indexing.html#returning-a-view-versus-a-copy\n",
      "  sports_2018.drop(['year','unitid','city_txt','state_cd','zip_text','classification_other','ef_female_count','ef_total_count','sector_cd','sector_name','sportscode','partic_women','partic_coed_men','partic_coed_women','sum_partic_men','sum_partic_women','rev_women','total_rev_menwomen','exp_women'],axis=1, inplace = True)\n"
     ]
    }
   ],
   "source": [
    "sports_2018 = sports.loc[sports['year'] == 2018]\n",
    "sports_2018.drop(['year','unitid','city_txt','state_cd','zip_text','classification_other','ef_female_count','ef_total_count','sector_cd','sector_name','sportscode','partic_women','partic_coed_men','partic_coed_women','sum_partic_men','sum_partic_women','rev_women','total_rev_menwomen','exp_women'],axis=1, inplace = True)\n",
    "sports_2018.reset_index()\n",
    "sports_2018.to_csv(\"sports_2018.csv\")"
   ]
  },
  {
   "cell_type": "code",
   "execution_count": 8,
   "id": "b42a2b73",
   "metadata": {},
   "outputs": [
    {
     "name": "stderr",
     "output_type": "stream",
     "text": [
      "/var/folders/62/5fmsns653cv0g9fgly39bn040000gn/T/ipykernel_16221/4271289085.py:2: SettingWithCopyWarning: \n",
      "A value is trying to be set on a copy of a slice from a DataFrame\n",
      "\n",
      "See the caveats in the documentation: https://pandas.pydata.org/pandas-docs/stable/user_guide/indexing.html#returning-a-view-versus-a-copy\n",
      "  sports_2017.drop(['year','unitid','city_txt','state_cd','zip_text','classification_other','ef_female_count','ef_total_count','sector_cd','sector_name','sportscode','partic_women','partic_coed_men','partic_coed_women','sum_partic_men','sum_partic_women','rev_women','total_rev_menwomen','exp_women'],axis=1, inplace = True)\n"
     ]
    }
   ],
   "source": [
    "sports_2017 = sports.loc[sports['year'] == 2017]\n",
    "sports_2017.drop(['year','unitid','city_txt','state_cd','zip_text','classification_other','ef_female_count','ef_total_count','sector_cd','sector_name','sportscode','partic_women','partic_coed_men','partic_coed_women','sum_partic_men','sum_partic_women','rev_women','total_rev_menwomen','exp_women'],axis=1, inplace = True)\n",
    "sports_2017.reset_index()\n",
    "sports_2017.to_csv(\"sports_2017.csv\")"
   ]
  },
  {
   "cell_type": "code",
   "execution_count": 9,
   "id": "3c56fc7d",
   "metadata": {},
   "outputs": [
    {
     "name": "stderr",
     "output_type": "stream",
     "text": [
      "/var/folders/62/5fmsns653cv0g9fgly39bn040000gn/T/ipykernel_16221/3709987276.py:2: SettingWithCopyWarning: \n",
      "A value is trying to be set on a copy of a slice from a DataFrame\n",
      "\n",
      "See the caveats in the documentation: https://pandas.pydata.org/pandas-docs/stable/user_guide/indexing.html#returning-a-view-versus-a-copy\n",
      "  sports_2016.drop(['year','unitid','city_txt','state_cd','zip_text','classification_other','ef_female_count','ef_total_count','sector_cd','sector_name','sportscode','partic_women','partic_coed_men','partic_coed_women','sum_partic_men','sum_partic_women','rev_women','total_rev_menwomen','exp_women'],axis=1, inplace = True)\n"
     ]
    }
   ],
   "source": [
    "sports_2016 = sports.loc[sports['year'] == 2016]\n",
    "sports_2016.drop(['year','unitid','city_txt','state_cd','zip_text','classification_other','ef_female_count','ef_total_count','sector_cd','sector_name','sportscode','partic_women','partic_coed_men','partic_coed_women','sum_partic_men','sum_partic_women','rev_women','total_rev_menwomen','exp_women'],axis=1, inplace = True)\n",
    "sports_2016.reset_index()\n",
    "sports_2016.to_csv(\"sports_2016.csv\")"
   ]
  },
  {
   "cell_type": "code",
   "execution_count": 10,
   "id": "1706a81d",
   "metadata": {},
   "outputs": [],
   "source": [
    "url = \"https://www.teamrankings.com/ncf/trends/win_trends/?range=yearly_2019\"\n",
    "response = requests.get(url)\n",
    "soup = BeautifulSoup(response.content, \"html.parser\")\n",
    "table = soup.find(\"tbody\")\n",
    "rows = table.find_all(\"tr\")\n",
    "name = []\n",
    "win_perc = []\n",
    "for row in table.find_all(\"tr\")[0:]:\n",
    "    team_name = row.find_all(\"td\")[0].text.strip()\n",
    "    win_percentage = row.find_all(\"td\")[2].text.strip()\n",
    "    name.append(team_name)\n",
    "    win_perc.append(win_percentage)\n",
    "data = {\"Team\": name, \"Win Percentage\": win_perc}\n",
    "wins_2019 = pd.DataFrame(data)\n",
    "wins_2019.to_csv(\"wins_2019.csv\")"
   ]
  },
  {
   "cell_type": "code",
   "execution_count": 11,
   "id": "930300d3",
   "metadata": {},
   "outputs": [],
   "source": [
    "url = \"https://www.teamrankings.com/ncf/trends/win_trends/?range=yearly_2018\"\n",
    "response = requests.get(url)\n",
    "soup = BeautifulSoup(response.content, \"html.parser\")\n",
    "table = soup.find(\"tbody\")\n",
    "rows = table.find_all(\"tr\")\n",
    "name = []\n",
    "win_perc = []\n",
    "for row in table.find_all(\"tr\")[0:]:\n",
    "    team_name = row.find_all(\"td\")[0].text.strip()\n",
    "    win_percentage = row.find_all(\"td\")[2].text.strip()\n",
    "    name.append(team_name)\n",
    "    win_perc.append(win_percentage)\n",
    "data = {\"Team\": name, \"Win Percentage\": win_perc}\n",
    "wins_2018 = pd.DataFrame(data)\n",
    "wins_2018.to_csv(\"wins_2018.csv\")"
   ]
  },
  {
   "cell_type": "code",
   "execution_count": 12,
   "id": "1b7c3912",
   "metadata": {},
   "outputs": [],
   "source": [
    "url = \"https://www.teamrankings.com/ncf/trends/win_trends/?range=yearly_2017\"\n",
    "response = requests.get(url)\n",
    "soup = BeautifulSoup(response.content, \"html.parser\")\n",
    "table = soup.find(\"tbody\")\n",
    "rows = table.find_all(\"tr\")\n",
    "name = []\n",
    "win_perc = []\n",
    "for row in table.find_all(\"tr\")[0:]:\n",
    "    team_name = row.find_all(\"td\")[0].text.strip()\n",
    "    win_percentage = row.find_all(\"td\")[2].text.strip()\n",
    "    name.append(team_name)\n",
    "    win_perc.append(win_percentage)\n",
    "data = {\"Team\": name, \"Win Percentage\": win_perc}\n",
    "wins_2017 = pd.DataFrame(data)\n",
    "wins_2017.to_csv(\"wins_2017.csv\")"
   ]
  },
  {
   "cell_type": "code",
   "execution_count": 13,
   "id": "12c9dab7",
   "metadata": {},
   "outputs": [],
   "source": [
    "url = \"https://www.teamrankings.com/ncf/trends/win_trends/?range=yearly_2016\"\n",
    "response = requests.get(url)\n",
    "soup = BeautifulSoup(response.content, \"html.parser\")\n",
    "table = soup.find(\"tbody\")\n",
    "rows = table.find_all(\"tr\")\n",
    "name = []\n",
    "win_perc = []\n",
    "for row in table.find_all(\"tr\")[0:]:\n",
    "    team_name = row.find_all(\"td\")[0].text.strip()\n",
    "    win_percentage = row.find_all(\"td\")[2].text.strip()\n",
    "    name.append(team_name)\n",
    "    win_perc.append(win_percentage)\n",
    "data = {\"Team\": name, \"Win Percentage\": win_perc}\n",
    "wins_2016 = pd.DataFrame(data)\n",
    "wins_2016.to_csv(\"wins_2016.csv\")"
   ]
  },
  {
   "cell_type": "code",
   "execution_count": 14,
   "id": "699e91f9",
   "metadata": {},
   "outputs": [],
   "source": [
    "all = pd.read_csv(\"sports_all.csv\")"
   ]
  },
  {
   "cell_type": "code",
   "execution_count": 15,
   "id": "5f95fbc4",
   "metadata": {},
   "outputs": [
    {
     "data": {
      "text/html": [
       "<div>\n",
       "<style scoped>\n",
       "    .dataframe tbody tr th:only-of-type {\n",
       "        vertical-align: middle;\n",
       "    }\n",
       "\n",
       "    .dataframe tbody tr th {\n",
       "        vertical-align: top;\n",
       "    }\n",
       "\n",
       "    .dataframe thead th {\n",
       "        text-align: right;\n",
       "    }\n",
       "</style>\n",
       "<table border=\"1\" class=\"dataframe\">\n",
       "  <thead>\n",
       "    <tr style=\"text-align: right;\">\n",
       "      <th></th>\n",
       "      <th>year</th>\n",
       "      <th>institution_name</th>\n",
       "      <th>classification_code</th>\n",
       "      <th>classification_name</th>\n",
       "      <th>ef_male_count</th>\n",
       "      <th>partic_men</th>\n",
       "      <th>rev_men</th>\n",
       "      <th>exp_men</th>\n",
       "      <th>total_exp_menwomen</th>\n",
       "      <th>sports</th>\n",
       "      <th>Win Percentage</th>\n",
       "    </tr>\n",
       "  </thead>\n",
       "  <tbody>\n",
       "    <tr>\n",
       "      <th>0</th>\n",
       "      <td>2019</td>\n",
       "      <td>Akron Main Campus</td>\n",
       "      <td>1</td>\n",
       "      <td>NCAA Division I-FBS</td>\n",
       "      <td>6104</td>\n",
       "      <td>110</td>\n",
       "      <td>7209428</td>\n",
       "      <td>7209428</td>\n",
       "      <td>7209428</td>\n",
       "      <td>Football</td>\n",
       "      <td>0.00%</td>\n",
       "    </tr>\n",
       "    <tr>\n",
       "      <th>1</th>\n",
       "      <td>2019</td>\n",
       "      <td>Alabama</td>\n",
       "      <td>1</td>\n",
       "      <td>NCAA Division I-FBS</td>\n",
       "      <td>13112</td>\n",
       "      <td>135</td>\n",
       "      <td>110110211</td>\n",
       "      <td>58508853</td>\n",
       "      <td>58508853</td>\n",
       "      <td>Football</td>\n",
       "      <td>84.60%</td>\n",
       "    </tr>\n",
       "    <tr>\n",
       "      <th>2</th>\n",
       "      <td>2019</td>\n",
       "      <td>Appalachian State University</td>\n",
       "      <td>1</td>\n",
       "      <td>NCAA Division I-FBS</td>\n",
       "      <td>7235</td>\n",
       "      <td>130</td>\n",
       "      <td>9188013</td>\n",
       "      <td>9188013</td>\n",
       "      <td>9188013</td>\n",
       "      <td>Football</td>\n",
       "      <td>92.90%</td>\n",
       "    </tr>\n",
       "    <tr>\n",
       "      <th>3</th>\n",
       "      <td>2019</td>\n",
       "      <td>Arizona</td>\n",
       "      <td>1</td>\n",
       "      <td>NCAA Division I-FBS</td>\n",
       "      <td>13334</td>\n",
       "      <td>108</td>\n",
       "      <td>38970927</td>\n",
       "      <td>21694477</td>\n",
       "      <td>21694477</td>\n",
       "      <td>Football</td>\n",
       "      <td>33.30%</td>\n",
       "    </tr>\n",
       "    <tr>\n",
       "      <th>4</th>\n",
       "      <td>2019</td>\n",
       "      <td>Arizona State University-Tempe</td>\n",
       "      <td>1</td>\n",
       "      <td>NCAA Division I-FBS</td>\n",
       "      <td>22447</td>\n",
       "      <td>126</td>\n",
       "      <td>49676376</td>\n",
       "      <td>32000572</td>\n",
       "      <td>32000572</td>\n",
       "      <td>Football</td>\n",
       "      <td>61.50%</td>\n",
       "    </tr>\n",
       "  </tbody>\n",
       "</table>\n",
       "</div>"
      ],
      "text/plain": [
       "   year                institution_name  classification_code  \\\n",
       "0  2019               Akron Main Campus                    1   \n",
       "1  2019                         Alabama                    1   \n",
       "2  2019    Appalachian State University                    1   \n",
       "3  2019                         Arizona                    1   \n",
       "4  2019  Arizona State University-Tempe                    1   \n",
       "\n",
       "   classification_name  ef_male_count  partic_men    rev_men   exp_men  \\\n",
       "0  NCAA Division I-FBS           6104         110    7209428   7209428   \n",
       "1  NCAA Division I-FBS          13112         135  110110211  58508853   \n",
       "2  NCAA Division I-FBS           7235         130    9188013   9188013   \n",
       "3  NCAA Division I-FBS          13334         108   38970927  21694477   \n",
       "4  NCAA Division I-FBS          22447         126   49676376  32000572   \n",
       "\n",
       "   total_exp_menwomen    sports Win Percentage  \n",
       "0             7209428  Football          0.00%  \n",
       "1            58508853  Football         84.60%  \n",
       "2             9188013  Football         92.90%  \n",
       "3            21694477  Football         33.30%  \n",
       "4            32000572  Football         61.50%  "
      ]
     },
     "execution_count": 15,
     "metadata": {},
     "output_type": "execute_result"
    }
   ],
   "source": [
    "all.head()"
   ]
  },
  {
   "cell_type": "code",
   "execution_count": null,
   "id": "2f76833c",
   "metadata": {},
   "outputs": [],
   "source": []
  }
 ],
 "metadata": {
  "kernelspec": {
   "display_name": "Python 3 (ipykernel)",
   "language": "python",
   "name": "python3"
  },
  "language_info": {
   "codemirror_mode": {
    "name": "ipython",
    "version": 3
   },
   "file_extension": ".py",
   "mimetype": "text/x-python",
   "name": "python",
   "nbconvert_exporter": "python",
   "pygments_lexer": "ipython3",
   "version": "3.11.2"
  }
 },
 "nbformat": 4,
 "nbformat_minor": 5
}

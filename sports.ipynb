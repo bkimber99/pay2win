{
 "cells": [
  {
   "cell_type": "code",
   "execution_count": 54,
   "id": "e7fdfed7",
   "metadata": {},
   "outputs": [],
   "source": [
    "import pandas as pd\n",
    "import requests\n",
    "from bs4 import BeautifulSoup"
   ]
  },
  {
   "cell_type": "code",
   "execution_count": 55,
   "id": "25ae7924",
   "metadata": {},
   "outputs": [
    {
     "name": "stderr",
     "output_type": "stream",
     "text": [
      "/var/folders/62/5fmsns653cv0g9fgly39bn040000gn/T/ipykernel_68192/3110448112.py:1: DtypeWarning: Columns (8) have mixed types. Specify dtype option on import or set low_memory=False.\n",
      "  sports = pd.read_csv(\"sports.csv\")\n"
     ]
    }
   ],
   "source": [
    "sports = pd.read_csv(\"sports.csv\")"
   ]
  },
  {
   "cell_type": "code",
   "execution_count": 56,
   "id": "4cb6a783",
   "metadata": {},
   "outputs": [],
   "source": [
    "sports = sports.loc[sports['classification_code'] == 1]"
   ]
  },
  {
   "cell_type": "code",
   "execution_count": 57,
   "id": "c073bfc3",
   "metadata": {},
   "outputs": [],
   "source": [
    "sports = sports.loc[sports['sports'] == 'Football']"
   ]
  },
  {
   "cell_type": "code",
   "execution_count": 58,
   "id": "52278665",
   "metadata": {},
   "outputs": [
    {
     "name": "stderr",
     "output_type": "stream",
     "text": [
      "/var/folders/62/5fmsns653cv0g9fgly39bn040000gn/T/ipykernel_68192/2715496473.py:2: SettingWithCopyWarning: \n",
      "A value is trying to be set on a copy of a slice from a DataFrame\n",
      "\n",
      "See the caveats in the documentation: https://pandas.pydata.org/pandas-docs/stable/user_guide/indexing.html#returning-a-view-versus-a-copy\n",
      "  sports_2019.drop(['year','unitid','city_txt','state_cd','zip_text','classification_other','ef_female_count','ef_total_count','sector_cd','sector_name','sportscode','partic_women','partic_coed_men','partic_coed_women','sum_partic_men','sum_partic_women','rev_women','total_rev_menwomen','exp_women'],axis=1, inplace = True)\n"
     ]
    }
   ],
   "source": [
    "sports_2019 = sports.loc[sports['year'] == 2019]\n",
    "sports_2019.drop(['year','unitid','city_txt','state_cd','zip_text','classification_other','ef_female_count','ef_total_count','sector_cd','sector_name','sportscode','partic_women','partic_coed_men','partic_coed_women','sum_partic_men','sum_partic_women','rev_women','total_rev_menwomen','exp_women'],axis=1, inplace = True)\n",
    "sports_2019.reset_index()\n",
    "sports_2019.to_csv(\"sports_2019.csv\")"
   ]
  },
  {
   "cell_type": "code",
   "execution_count": 59,
   "id": "fcc9e2ee",
   "metadata": {},
   "outputs": [
    {
     "name": "stderr",
     "output_type": "stream",
     "text": [
      "/var/folders/62/5fmsns653cv0g9fgly39bn040000gn/T/ipykernel_68192/3406958938.py:2: SettingWithCopyWarning: \n",
      "A value is trying to be set on a copy of a slice from a DataFrame\n",
      "\n",
      "See the caveats in the documentation: https://pandas.pydata.org/pandas-docs/stable/user_guide/indexing.html#returning-a-view-versus-a-copy\n",
      "  sports_2018.drop(['year','unitid','city_txt','state_cd','zip_text','classification_other','ef_female_count','ef_total_count','sector_cd','sector_name','sportscode','partic_women','partic_coed_men','partic_coed_women','sum_partic_men','sum_partic_women','rev_women','total_rev_menwomen','exp_women'],axis=1, inplace = True)\n"
     ]
    }
   ],
   "source": [
    "sports_2018 = sports.loc[sports['year'] == 2018]\n",
    "sports_2018.drop(['year','unitid','city_txt','state_cd','zip_text','classification_other','ef_female_count','ef_total_count','sector_cd','sector_name','sportscode','partic_women','partic_coed_men','partic_coed_women','sum_partic_men','sum_partic_women','rev_women','total_rev_menwomen','exp_women'],axis=1, inplace = True)\n",
    "sports_2018.reset_index()\n",
    "sports_2018.to_csv(\"sports_2018.csv\")"
   ]
  },
  {
   "cell_type": "code",
   "execution_count": 60,
   "id": "b42a2b73",
   "metadata": {},
   "outputs": [
    {
     "name": "stderr",
     "output_type": "stream",
     "text": [
      "/var/folders/62/5fmsns653cv0g9fgly39bn040000gn/T/ipykernel_68192/4271289085.py:2: SettingWithCopyWarning: \n",
      "A value is trying to be set on a copy of a slice from a DataFrame\n",
      "\n",
      "See the caveats in the documentation: https://pandas.pydata.org/pandas-docs/stable/user_guide/indexing.html#returning-a-view-versus-a-copy\n",
      "  sports_2017.drop(['year','unitid','city_txt','state_cd','zip_text','classification_other','ef_female_count','ef_total_count','sector_cd','sector_name','sportscode','partic_women','partic_coed_men','partic_coed_women','sum_partic_men','sum_partic_women','rev_women','total_rev_menwomen','exp_women'],axis=1, inplace = True)\n"
     ]
    }
   ],
   "source": [
    "sports_2017 = sports.loc[sports['year'] == 2017]\n",
    "sports_2017.drop(['year','unitid','city_txt','state_cd','zip_text','classification_other','ef_female_count','ef_total_count','sector_cd','sector_name','sportscode','partic_women','partic_coed_men','partic_coed_women','sum_partic_men','sum_partic_women','rev_women','total_rev_menwomen','exp_women'],axis=1, inplace = True)\n",
    "sports_2017.reset_index()\n",
    "sports_2017.to_csv(\"sports_2017.csv\")"
   ]
  },
  {
   "cell_type": "code",
   "execution_count": 61,
   "id": "3c56fc7d",
   "metadata": {},
   "outputs": [
    {
     "name": "stderr",
     "output_type": "stream",
     "text": [
      "/var/folders/62/5fmsns653cv0g9fgly39bn040000gn/T/ipykernel_68192/3709987276.py:2: SettingWithCopyWarning: \n",
      "A value is trying to be set on a copy of a slice from a DataFrame\n",
      "\n",
      "See the caveats in the documentation: https://pandas.pydata.org/pandas-docs/stable/user_guide/indexing.html#returning-a-view-versus-a-copy\n",
      "  sports_2016.drop(['year','unitid','city_txt','state_cd','zip_text','classification_other','ef_female_count','ef_total_count','sector_cd','sector_name','sportscode','partic_women','partic_coed_men','partic_coed_women','sum_partic_men','sum_partic_women','rev_women','total_rev_menwomen','exp_women'],axis=1, inplace = True)\n"
     ]
    }
   ],
   "source": [
    "sports_2016 = sports.loc[sports['year'] == 2016]\n",
    "sports_2016.drop(['year','unitid','city_txt','state_cd','zip_text','classification_other','ef_female_count','ef_total_count','sector_cd','sector_name','sportscode','partic_women','partic_coed_men','partic_coed_women','sum_partic_men','sum_partic_women','rev_women','total_rev_menwomen','exp_women'],axis=1, inplace = True)\n",
    "sports_2016.reset_index()\n",
    "sports_2016.to_csv(\"sports_2016.csv\")"
   ]
  },
  {
   "cell_type": "code",
   "execution_count": 62,
   "id": "1706a81d",
   "metadata": {},
   "outputs": [],
   "source": [
    "url = \"https://www.teamrankings.com/ncf/trends/win_trends/?range=yearly_2019\"\n",
    "response = requests.get(url)\n",
    "soup = BeautifulSoup(response.content, \"html.parser\")\n",
    "table = soup.find(\"tbody\")\n",
    "rows = table.find_all(\"tr\")\n",
    "name = []\n",
    "win_perc = []\n",
    "for row in table.find_all(\"tr\")[0:]:\n",
    "    team_name = row.find_all(\"td\")[0].text.strip()\n",
    "    win_percentage = row.find_all(\"td\")[2].text.strip()\n",
    "    name.append(team_name)\n",
    "    win_perc.append(win_percentage)\n",
    "data = {\"Team\": name, \"Win Percentage\": win_perc}\n",
    "wins_2019 = pd.DataFrame(data)\n",
    "wins_2019.to_csv(\"wins_2019.csv\")"
   ]
  },
  {
   "cell_type": "code",
   "execution_count": 63,
   "id": "930300d3",
   "metadata": {},
   "outputs": [],
   "source": [
    "url = \"https://www.teamrankings.com/ncf/trends/win_trends/?range=yearly_2018\"\n",
    "response = requests.get(url)\n",
    "soup = BeautifulSoup(response.content, \"html.parser\")\n",
    "table = soup.find(\"tbody\")\n",
    "rows = table.find_all(\"tr\")\n",
    "name = []\n",
    "win_perc = []\n",
    "for row in table.find_all(\"tr\")[0:]:\n",
    "    team_name = row.find_all(\"td\")[0].text.strip()\n",
    "    win_percentage = row.find_all(\"td\")[2].text.strip()\n",
    "    name.append(team_name)\n",
    "    win_perc.append(win_percentage)\n",
    "data = {\"Team\": name, \"Win Percentage\": win_perc}\n",
    "wins_2018 = pd.DataFrame(data)\n",
    "wins_2018.to_csv(\"wins_2018.csv\")"
   ]
  },
  {
   "cell_type": "code",
   "execution_count": 64,
   "id": "1b7c3912",
   "metadata": {},
   "outputs": [],
   "source": [
    "url = \"https://www.teamrankings.com/ncf/trends/win_trends/?range=yearly_2017\"\n",
    "response = requests.get(url)\n",
    "soup = BeautifulSoup(response.content, \"html.parser\")\n",
    "table = soup.find(\"tbody\")\n",
    "rows = table.find_all(\"tr\")\n",
    "name = []\n",
    "win_perc = []\n",
    "for row in table.find_all(\"tr\")[0:]:\n",
    "    team_name = row.find_all(\"td\")[0].text.strip()\n",
    "    win_percentage = row.find_all(\"td\")[2].text.strip()\n",
    "    name.append(team_name)\n",
    "    win_perc.append(win_percentage)\n",
    "data = {\"Team\": name, \"Win Percentage\": win_perc}\n",
    "wins_2017 = pd.DataFrame(data)\n",
    "wins_2017.to_csv(\"wins_2017.csv\")"
   ]
  },
  {
   "cell_type": "code",
   "execution_count": 65,
   "id": "12c9dab7",
   "metadata": {},
   "outputs": [],
   "source": [
    "url = \"https://www.teamrankings.com/ncf/trends/win_trends/?range=yearly_2016\"\n",
    "response = requests.get(url)\n",
    "soup = BeautifulSoup(response.content, \"html.parser\")\n",
    "table = soup.find(\"tbody\")\n",
    "rows = table.find_all(\"tr\")\n",
    "name = []\n",
    "win_perc = []\n",
    "for row in table.find_all(\"tr\")[0:]:\n",
    "    team_name = row.find_all(\"td\")[0].text.strip()\n",
    "    win_percentage = row.find_all(\"td\")[2].text.strip()\n",
    "    name.append(team_name)\n",
    "    win_perc.append(win_percentage)\n",
    "data = {\"Team\": name, \"Win Percentage\": win_perc}\n",
    "wins_2016 = pd.DataFrame(data)\n",
    "wins_2016.to_csv(\"wins_2016.csv\")"
   ]
  },
  {
   "cell_type": "code",
   "execution_count": 67,
   "id": "699e91f9",
   "metadata": {},
   "outputs": [],
   "source": []
  },
  {
   "cell_type": "code",
   "execution_count": null,
   "id": "5f95fbc4",
   "metadata": {},
   "outputs": [],
   "source": []
  },
  {
   "cell_type": "code",
   "execution_count": null,
   "id": "2f76833c",
   "metadata": {},
   "outputs": [],
   "source": []
  }
 ],
 "metadata": {
  "kernelspec": {
   "display_name": "Python 3 (ipykernel)",
   "language": "python",
   "name": "python3"
  },
  "language_info": {
   "codemirror_mode": {
    "name": "ipython",
    "version": 3
   },
   "file_extension": ".py",
   "mimetype": "text/x-python",
   "name": "python",
   "nbconvert_exporter": "python",
   "pygments_lexer": "ipython3",
   "version": "3.11.2"
  }
 },
 "nbformat": 4,
 "nbformat_minor": 5
}
